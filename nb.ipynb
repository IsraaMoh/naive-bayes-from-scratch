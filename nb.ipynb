{
 "cells": [
  {
   "cell_type": "markdown",
   "metadata": {},
   "source": [
    " # Naive bayes algorithm from scratch "
   ]
  },
  {
   "cell_type": "markdown",
   "metadata": {},
   "source": [
    "Import the libraries have been needed "
   ]
  },
  {
   "cell_type": "code",
   "execution_count": 55,
   "metadata": {},
   "outputs": [],
   "source": [
    "import math \n",
    "import random \n",
    "import re\n",
    "import pandas as pd\n",
    "import numpy as np\n",
    "from sklearn.metrics import accuracy_score\n",
    "from sklearn.metrics import precision_score\n",
    "from sklearn.metrics import recall_score\n",
    "import matplotlib.pyplot as plt"
   ]
  },
  {
   "cell_type": "markdown",
   "metadata": {},
   "source": [
    "Start main function contains: \n",
    "    - [1]Load the data from CSV file by useing panda librarie.\n",
    "    - [2]Shuffle and split the dataset into training and test datasets.\n",
    "    - [3] Split your training data by class.\n",
    "    - [4] Calculate the prior\n",
    "    - [5] Make prediction on the testing set.\n",
    "    - [6] Compute the accuracy, precision, and recall.\n",
    "    - [7] Plot a scatter plot of the data, coloring each data point by its class."
   ]
  },
  {
   "cell_type": "code",
   "execution_count": 56,
   "metadata": {},
   "outputs": [],
   "source": [
    "\n",
    "\n",
    "\n",
    "def main():\n",
    "    #[1] Load the data from CSV file by useing panda librarie.\n",
    "    data=pd.read_csv(\"diabetes_csv.csv\")\n",
    "    print(\" \")\n",
    "    print(data.head())\n",
    "    print(\" \")\n",
    "    #[2] Shuffle and split the dataset into training and test datasets\n",
    "    train_size=int(0.75*data.shape[0])\n",
    "    test_size=int(0.25*data.shape[0])\n",
    "    print(\" \")\n",
    "    print(\"Training set size : \"+ str(train_size))\n",
    "    print(\"Testing set size : \"+str(test_size))\n",
    "    \n",
    "    #[3] Split your training data by class\n",
    "    train_set = data.iloc[:train_size]\n",
    "    test_set = data.iloc[:test_size]\n",
    "    \n",
    "    classP = train_set.groupby('class')\n",
    "    classP=classP.get_group('tested_positive')\n",
    "    \n",
    "    classN = train_set.groupby('class')\n",
    "    classN=classN.get_group('tested_negative')\n",
    "    \n",
    "    #compute the mean vector and variance of the feature in each class.\n",
    "    tclass=test_set.iloc[:,-1]\n",
    "    print(\"--- The mean and variance for class tested_positive : ---\")\n",
    "    mean_var(classP)\n",
    "        \n",
    "    print(\" \")\n",
    "    print(\"--- The mean and variance for class tested_negative : ---\")\n",
    "    mean_var(classN)\n",
    "   \n",
    "    # [4] Calculate the prior.\n",
    "    print(\" \")    \n",
    "    priorOfp = classP.shape[0]/train_size\n",
    "    print(\"The prior of tested_positive is :\"+str(priorOfp))\n",
    "    priorOfn = classN.shape[0]/train_size\n",
    "    print(\"The prior of tested_negative is :\"+str(priorOfn))\n",
    "    print(\" \")\n",
    "    # [4] Call conditional probabilities function.\n",
    "    CPp = probaplity(classP,test_set)\n",
    "    CPn=probaplity(classN,test_set) \n",
    "    \n",
    "    # [5] Call prediction function.\n",
    "    predicp=predect(CPp,priorOfp,priorOfn)\n",
    "    predicn=predect(CPn,priorOfp,priorOfn)\n",
    "    \n",
    "   # [6] Compute the accuracy, precision, and recall.\n",
    "    accp= accuracy_score(tclass, predicp)\n",
    "    accn= accuracy_score(tclass, predicn)\n",
    "    accurecy = ((accp+accn)/2)*100\n",
    "    print('The accurecy is   {:6.3f} '.format(accurecy,' %' ))\n",
    "    ppos=precision_score(tclass, predicp, average='weighted')\n",
    "    pneg=precision_score(tclass, predicn, average='weighted')\n",
    "    rep=recall_score(tclass, predicp,average='weighted')\n",
    "    ren=recall_score(tclass, predicn,average='weighted')\n",
    "    recall=((rep+ren)/2)\n",
    "    precision=((ppos+pneg)/2)\n",
    "    print(\"The precision  : {:6.3f} \".format(precision))\n",
    "    print(\"The recall : {:6.3f}\".format(recall))\n",
    "    \n",
    "    # [7] Plot a scatter plot of the data, coloring each data point by its class.\n",
    "    colors = np.random.choice(range(2), 192)\n",
    "    plt.scatter(test_set.iloc[:,-2], test_set.iloc[:,-3], c=colors)\n",
    "    \n",
    "   \n",
    "    \n",
    "   \n",
    "        \n",
    "        \n",
    "        \n",
    "    "
   ]
  },
  {
   "cell_type": "markdown",
   "metadata": {},
   "source": [
    "- [5] Make prediction on the testing set."
   ]
  },
  {
   "cell_type": "code",
   "execution_count": 57,
   "metadata": {},
   "outputs": [],
   "source": [
    "def predect(array,priorOfp,priorOfn):\n",
    "    predict=[]\n",
    "    \n",
    "    for i in range(len(array)):\n",
    "        predict=[]\n",
    "        p=priorOfp\n",
    "        n=priorOfn\n",
    "        for j in range(len(array[0])):\n",
    "            p *= array[i][j]\n",
    "            n *= array[i][j]\n",
    "            if( j <= (len(array[0]))-1):\n",
    "                m=max(p,n)\n",
    "                if m==p:\n",
    "                    predict.append(\"tested_positive\")\n",
    "                else:\n",
    "                    predict.append(\"tested_negative\")\n",
    "    \n",
    "    return predict"
   ]
  },
  {
   "cell_type": "markdown",
   "metadata": {},
   "source": [
    "- [4] Calculate the conditional probabilities."
   ]
  },
  {
   "cell_type": "code",
   "execution_count": 58,
   "metadata": {},
   "outputs": [],
   "source": [
    "def probaplity(Class,test_set):\n",
    "    \n",
    "    CPp=[]\n",
    "    labels = ['preg','plas','pres','skin','insu','mass','pedi','age']\n",
    "    for i in range(len(labels)):\n",
    "        m=np.mean(Class[labels[i]].values)\n",
    "        v=np.var(Class[labels[i]].values)\n",
    "        ts=test_set[labels[i]].values\n",
    "        TM=(ts-m)**2\n",
    "        e=np.exp(-(TM)/(2*v))\n",
    "        CPp.append((1/math.sqrt(2*(math.pi)*v))*e)\n",
    "    return CPp"
   ]
  },
  {
   "cell_type": "markdown",
   "metadata": {},
   "source": [
    "- [3] Compute the mean vector and variance of the feature in each class"
   ]
  },
  {
   "cell_type": "code",
   "execution_count": 59,
   "metadata": {},
   "outputs": [],
   "source": [
    "def mean_var(Class):\n",
    "    \n",
    "    labels = ['preg','plas','pres','skin','insu','mass','pedi','age']\n",
    "    for i in range(len(labels)):\n",
    "        m=np.mean(Class[labels[i]].values)\n",
    "        v=np.var(Class[labels[i]].values)\n",
    "        print(\" \")\n",
    "        print('The mean of feature '+labels[i]+'  is  {:6.3f} '.format(m) +' and the verince is {:6.3f}'.format(v))"
   ]
  },
  {
   "cell_type": "code",
   "execution_count": 60,
   "metadata": {},
   "outputs": [
    {
     "name": "stdout",
     "output_type": "stream",
     "text": [
      " \n",
      "   preg  plas  pres  skin  insu  mass   pedi  age            class\n",
      "0     6   148    72    35     0  33.6  0.627   50  tested_positive\n",
      "1     1    85    66    29     0  26.6  0.351   31  tested_negative\n",
      "2     8   183    64     0     0  23.3  0.672   32  tested_positive\n",
      "3     1    89    66    23    94  28.1  0.167   21  tested_negative\n",
      "4     0   137    40    35   168  43.1  2.288   33  tested_positive\n",
      " \n",
      " \n",
      "Training set size : 576\n",
      "Testing set size : 192\n",
      "--- The mean and variance for class tested_positive : ---\n",
      " \n",
      "The mean of feature preg  is   4.828  and the verince is 14.031\n",
      " \n",
      "The mean of feature plas  is  139.732  and the verince is 1075.752\n",
      " \n",
      "The mean of feature pres  is  69.924  and the verince is 486.323\n",
      " \n",
      "The mean of feature skin  is  22.081  and the verince is 289.630\n",
      " \n",
      "The mean of feature insu  is  103.197  and the verince is 18820.188\n",
      " \n",
      "The mean of feature mass  is  35.321  and the verince is 52.635\n",
      " \n",
      "The mean of feature pedi  is   0.565  and the verince is  0.148\n",
      " \n",
      "The mean of feature age  is  36.540  and the verince is 114.400\n",
      " \n",
      "--- The mean and variance for class tested_negative : ---\n",
      " \n",
      "The mean of feature preg  is   3.272  and the verince is  8.849\n",
      " \n",
      "The mean of feature plas  is  109.733  and the verince is 744.016\n",
      " \n",
      "The mean of feature pres  is  68.222  and the verince is 310.178\n",
      " \n",
      "The mean of feature skin  is  19.799  and the verince is 218.806\n",
      " \n",
      "The mean of feature insu  is  67.680  and the verince is 10107.487\n",
      " \n",
      "The mean of feature mass  is  30.096  and the verince is 61.205\n",
      " \n",
      "The mean of feature pedi  is   0.435  and the verince is  0.088\n",
      " \n",
      "The mean of feature age  is  31.429  and the verince is 142.049\n",
      " \n",
      "The prior of tested_positive is :0.34375\n",
      "The prior of tested_negative is :0.65625\n",
      " \n",
      "The accurecy is   63.802 \n",
      "The precision  :  0.410 \n",
      "The recall :  0.638\n"
     ]
    },
    {
     "data": {
      "image/png": "[encoded data removed]",
      "text/plain": [
       "<Figure size 432x288 with 1 Axes>"
      ]
     },
     "metadata": {
      "needs_background": "light"
     },
     "output_type": "display_data"
    }
   ],
   "source": [
    "main()"
   ]
  },
  {
   "cell_type": "code",
   "execution_count": null,
   "metadata": {},
   "outputs": [],
   "source": []
  },
  {
   "cell_type": "code",
   "execution_count": null,
   "metadata": {},
   "outputs": [],
   "source": []
  }
 ],
 "metadata": {
  "kernelspec": {
   "display_name": "Python 3",
   "language": "python",
   "name": "python3"
  },
  "language_info": {
   "codemirror_mode": {
    "name": "ipython",
    "version": 3
   },
   "file_extension": ".py",
   "mimetype": "text/x-python",
   "name": "python",
   "nbconvert_exporter": "python",
   "pygments_lexer": "ipython3",
   "version": "3.7.1"
  }
 },
 "nbformat": 4,
 "nbformat_minor": 2
}
